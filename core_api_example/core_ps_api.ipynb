{
 "cells": [
  {
   "cell_type": "markdown",
   "metadata": {},
   "source": [
    "### Programatically Start Core Machine with a Startup Script and Stop Core Machines using Paperspace API\n",
    "\n",
    "- This notebook demonstrates how to start and stop a Paperspace Core machine using the Paperspace API.\n",
    "\n",
    "- Make sure you have your API token created using this instruction: https://docs.digitalocean.com/reference/paperspace/api-keys/\n",
    "\n",
    "- Also find the Paperspace API reference here: https://docs.digitalocean.com/reference/paperspace/pspace/api-reference/"
   ]
  },
  {
   "cell_type": "markdown",
   "metadata": {},
   "source": [
    "### Example Use Case:\n",
    "- We have setup a Paperspace Core machine running a Mistral-7B vLLM Docker container and exposes the API on Port 8000\n",
    "\n",
    "- Say, there is no constant usage of the machine and we want to stop the machine when not in use and start it when needed.\n",
    "\n",
    "- We can do this by using the Paperspace API as shown in the diagram below "
   ]
  },
  {
   "cell_type": "markdown",
   "metadata": {},
   "source": [
    "<!-- ![Core_PS_API Image](core_api_flow_start_stop.png) -->\n",
    "<img src=\"core_api_flow_start_stop.png\" width=\"600\" height=\"450\">"
   ]
  },
  {
   "cell_type": "code",
   "execution_count": 56,
   "metadata": {},
   "outputs": [],
   "source": [
    "import requests\n",
    "import json\n",
    "import time\n",
    "\n",
    "api_key = \"PAPERSPACE_API_KEY\"\n",
    "hf_token = \"HF_READ_TOKEN\"\n",
    "machine_id = \"MACHINE_ID\""
   ]
  },
  {
   "cell_type": "code",
   "execution_count": 23,
   "metadata": {},
   "outputs": [],
   "source": [
    "\n",
    "def get_machine_status(machine_id, auth_key):\n",
    "    url = \"https://api.paperspace.com/v1/machines/\"\n",
    "    headers = {\n",
    "    'Authorization': 'Bearer '+ auth_key\n",
    "    }\n",
    "    url += machine_id\n",
    "    response = requests.request(\"GET\", url, headers=headers)\n",
    "    response_obj = json.loads(response.text)\n",
    "    # print(response_obj.keys())\n",
    "    # print(response_obj['state']) \n",
    "    return response_obj['state'] # should be \"off\" \"starting\" \"stopping\" \"restarting\" \"serviceready\" \"ready\" \"upgrading\" \"provisioning\"\n"
   ]
  },
  {
   "cell_type": "code",
   "execution_count": 75,
   "metadata": {},
   "outputs": [
    {
     "data": {
      "text/plain": [
       "'off'"
      ]
     },
     "execution_count": 75,
     "metadata": {},
     "output_type": "execute_result"
    }
   ],
   "source": [
    "get_machine_status(machine_id, api_key)"
   ]
  },
  {
   "cell_type": "code",
   "execution_count": 41,
   "metadata": {},
   "outputs": [],
   "source": [
    "def stop_machine(machine_id, auth_key):\n",
    "    url = \"https://api.paperspace.com/v1/machines/\"\n",
    "    headers = {\n",
    "    'Authorization': 'Bearer '+ auth_key\n",
    "    }\n",
    "    url += machine_id + \"/stop\"\n",
    "    response = requests.request(\"PATCH\", url, headers=headers)\n",
    "    if response.status_code == 200:\n",
    "        return True\n",
    "    response_obj = json.loads(response.text)\n",
    "    print(response_obj)\n",
    "    return False"
   ]
  },
  {
   "cell_type": "code",
   "execution_count": 74,
   "metadata": {},
   "outputs": [
    {
     "data": {
      "text/plain": [
       "True"
      ]
     },
     "execution_count": 74,
     "metadata": {},
     "output_type": "execute_result"
    }
   ],
   "source": [
    "stop_machine(machine_id, api_key)"
   ]
  },
  {
   "cell_type": "code",
   "execution_count": 43,
   "metadata": {},
   "outputs": [],
   "source": [
    "def start_machine(machine_id, auth_key):\n",
    "    url = \"https://api.paperspace.com/v1/machines/\"\n",
    "    headers = {\n",
    "    'Authorization': 'Bearer '+ auth_key\n",
    "    }\n",
    "    url += machine_id + \"/start\"\n",
    "    response = requests.request(\"PATCH\", url, headers=headers)\n",
    "    if response.status_code == 200:\n",
    "        return True\n",
    "    response_obj = json.loads(response.text)\n",
    "    print(response_obj)\n",
    "    return False"
   ]
  },
  {
   "cell_type": "code",
   "execution_count": 44,
   "metadata": {},
   "outputs": [
    {
     "data": {
      "text/plain": [
       "True"
      ]
     },
     "execution_count": 44,
     "metadata": {},
     "output_type": "execute_result"
    }
   ],
   "source": [
    "start_machine(machine_id, api_key)"
   ]
  },
  {
   "cell_type": "code",
   "execution_count": 72,
   "metadata": {},
   "outputs": [],
   "source": [
    "def create_new_startup_script_from_shell_file(name, shell_fp, run_on_every_boot, api_key):\n",
    "    with open(shell_fp, 'r') as f:\n",
    "        shell_script = f.read()\n",
    "    shell_script = shell_script.replace(\"hf_readtoken\", hf_token)\n",
    "    # print(shell_script)\n",
    "    startup_script = {\n",
    "        \"name\": name,\n",
    "        \"script\": shell_script,\n",
    "        \"isRunOnce\": not run_on_every_boot\n",
    "    }\n",
    "    url = \"https://api.paperspace.com/v1/startup-scripts\"\n",
    "    headers = {\n",
    "        'Content-Type': 'application/json',\n",
    "        'Authorization': 'Bearer '+ api_key,\n",
    "    }\n",
    "    payload = json.dumps(startup_script)\n",
    "    response = requests.request(\"POST\", url, headers=headers, data=payload)\n",
    "    print(response)\n",
    "    if response.status_code == 200:\n",
    "        response_obj = json.loads(response.text)\n",
    "        return response_obj['id']\n",
    "    else:\n",
    "        response_obj = json.loads(response.text)\n",
    "        print(response_obj)\n",
    "        return None"
   ]
  },
  {
   "cell_type": "code",
   "execution_count": 76,
   "metadata": {},
   "outputs": [
    {
     "name": "stdout",
     "output_type": "stream",
     "text": [
      "<Response [200]>\n",
      "Startup Script ID: scor8zqtf\n"
     ]
    }
   ],
   "source": [
    "ss_id = create_new_startup_script_from_shell_file(\"start_vllm_docker_hf_ss\", \"example_script.sh\", True, api_key)\n",
    "print(\"Startup Script ID:\", ss_id)"
   ]
  },
  {
   "cell_type": "code",
   "execution_count": 54,
   "metadata": {},
   "outputs": [],
   "source": [
    "def assign_startup_script_to_machine(machine_id, startup_script_id, api_key):\n",
    "    url = f\"https://api.paperspace.com/v1/startup-scripts/{startup_script_id}/assign\"\n",
    "    headers = {\n",
    "        'Content-Type': 'application/json',\n",
    "        'Authorization': 'Bearer '+ api_key,\n",
    "    }\n",
    "    payload = json.dumps({\"machineId\": machine_id})\n",
    "    response = requests.request(\"POST\", url, headers=headers, data=payload)\n",
    "    if response.status_code == 200:\n",
    "        return True\n",
    "    response_obj = json.loads(response.text)\n",
    "    print(response_obj)\n",
    "    return False"
   ]
  },
  {
   "cell_type": "code",
   "execution_count": 77,
   "metadata": {},
   "outputs": [
    {
     "data": {
      "text/plain": [
       "True"
      ]
     },
     "execution_count": 77,
     "metadata": {},
     "output_type": "execute_result"
    }
   ],
   "source": [
    "assign_startup_script_to_machine(machine_id, ss_id, api_key)"
   ]
  },
  {
   "cell_type": "code",
   "execution_count": 79,
   "metadata": {},
   "outputs": [],
   "source": [
    "def start_and_wait_for_machine_to_be_ready(machine_id, api_key, max_wait_time=300):\n",
    "    if start_machine(machine_id, api_key):\n",
    "        print(\"Machine starting...\")\n",
    "        start_time = time.time()\n",
    "        while get_machine_status(machine_id, api_key) != \"ready\":\n",
    "            time.sleep(10)\n",
    "            current_time = time.time()\n",
    "            if current_time - start_time > max_wait_time:\n",
    "                print(\"Machine failed to start even after waiting for max time:\", max_wait_time)\n",
    "                break\n",
    "        print(\"Machine is ready!\")\n",
    "    else:\n",
    "        print(\"Machine failed to start\")\n"
   ]
  },
  {
   "cell_type": "code",
   "execution_count": 78,
   "metadata": {},
   "outputs": [
    {
     "name": "stdout",
     "output_type": "stream",
     "text": [
      "Machine starting...\n",
      "Machine ready\n"
     ]
    }
   ],
   "source": [
    "start_and_wait_for_machine_to_be_ready(machine_id, api_key)"
   ]
  },
  {
   "cell_type": "markdown",
   "metadata": {},
   "source": [
    "#### NOTE: Once the Machine is ready, the startup script might still take some time to run, so wait for a few minutes before checking if the service is ready\n"
   ]
  },
  {
   "cell_type": "markdown",
   "metadata": {},
   "source": []
  }
 ],
 "metadata": {
  "kernelspec": {
   "display_name": "ln-venv",
   "language": "python",
   "name": "python3"
  },
  "language_info": {
   "codemirror_mode": {
    "name": "ipython",
    "version": 3
   },
   "file_extension": ".py",
   "mimetype": "text/x-python",
   "name": "python",
   "nbconvert_exporter": "python",
   "pygments_lexer": "ipython3",
   "version": "3.11.9"
  }
 },
 "nbformat": 4,
 "nbformat_minor": 2
}
