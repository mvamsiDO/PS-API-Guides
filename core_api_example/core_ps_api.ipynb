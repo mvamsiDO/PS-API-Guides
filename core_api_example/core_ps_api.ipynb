{
 "cells": [
  {
   "cell_type": "markdown",
   "metadata": {},
   "source": [
    "### Programatically Start Core Machine with a Startup Script and Stop Core Machines using Paperspace API\n",
    "\n",
    "- This notebook demonstrates how to start and stop a Paperspace Core machine using the Paperspace API.\n",
    "\n",
    "- Make sure you have your API token created using this instruction: https://docs.digitalocean.com/reference/paperspace/api-keys/\n",
    "\n",
    "- Also find the Paperspace API reference here: https://docs.digitalocean.com/reference/paperspace/pspace/api-reference/"
   ]
  },
  {
   "cell_type": "markdown",
   "metadata": {},
   "source": [
    "### Example Use Case:\n",
    "- We have setup a Paperspace Core machine running a Mistral-7B vLLM Docker container and exposes the API on Port 8000\n",
    "\n",
    "- Say, there is no constant usage of the machine and we want to stop the machine when not in use and start it when needed.\n",
    "\n",
    "- We can do this by using the Paperspace API as shown in the diagram below "
   ]
  },
  {
   "cell_type": "markdown",
   "metadata": {},
   "source": [
    "<!-- ![Core_PS_API Image](core_api_flow_start_stop.png) -->\n",
    "<img src=\"core_api_flow_start_stop.png\" width=\"600\" height=\"450\">"
   ]
  },
  {
   "cell_type": "code",
   "execution_count": null,
   "metadata": {},
   "outputs": [],
   "source": []
  },
  {
   "cell_type": "code",
   "execution_count": 7,
   "metadata": {},
   "outputs": [],
   "source": [
    "import requests\n",
    "import json\n",
    "\n",
    "api_key = \"PAPERSPACE_API_KEY\"\n",
    "hf_token = \"HF_READ_TOKEN\""
   ]
  },
  {
   "cell_type": "code",
   "execution_count": null,
   "metadata": {},
   "outputs": [],
   "source": []
  },
  {
   "cell_type": "code",
   "execution_count": null,
   "metadata": {},
   "outputs": [],
   "source": []
  }
 ],
 "metadata": {
  "kernelspec": {
   "display_name": "ln-venv",
   "language": "python",
   "name": "python3"
  },
  "language_info": {
   "codemirror_mode": {
    "name": "ipython",
    "version": 3
   },
   "file_extension": ".py",
   "mimetype": "text/x-python",
   "name": "python",
   "nbconvert_exporter": "python",
   "pygments_lexer": "ipython3",
   "version": "3.11.9"
  }
 },
 "nbformat": 4,
 "nbformat_minor": 2
}
